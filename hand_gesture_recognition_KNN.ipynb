{
  "nbformat": 4,
  "nbformat_minor": 0,
  "metadata": {
    "colab": {
      "name": "Group8_29_35_38",
      "provenance": [],
      "collapsed_sections": []
    },
    "kernelspec": {
      "name": "python3",
      "display_name": "Python 3"
    }
  },
  "cells": [
    {
      "cell_type": "markdown",
      "metadata": {
        "id": "LLubanytvRMu"
      },
      "source": [
        "**Hand Gesture Recognition using K-Nearest Neighbours Classfier**\n",
        "\n",
        "Dataset Used:[*Hand Gesture Recognition Database*](https://www.kaggle.com/benenharrington/hand-gesture-recognition-database-with-cnn)\n",
        "\n",
        "Source: Kaggle"
      ]
    },
    {
      "cell_type": "code",
      "metadata": {
        "id": "I3FFuPa65NqI"
      },
      "source": [
        "#Mohit\n",
        "\n",
        "import cv2\n",
        "import numpy as np\n",
        "from matplotlib import pyplot as plt\n",
        "import pandas as pd\n",
        "from sklearn.neighbors import KNeighborsClassifier\n",
        "from sklearn.metrics import confusion_matrix\n",
        "from sklearn.model_selection import train_test_split\n",
        "import seaborn as sn\n",
        "from sklearn.metrics import accuracy_score"
      ],
      "execution_count": null,
      "outputs": []
    },
    {
      "cell_type": "code",
      "metadata": {
        "id": "U0usGp0QZBwZ",
        "colab": {
          "base_uri": "https://localhost:8080/",
          "height": 72
        },
        "outputId": "63b5bd5f-89a0-4a22-a758-968a9f8962d9"
      },
      "source": [
        "#Mohit\n",
        "\n",
        "gestures = ['fist','index','ok','palm','thumb']\n",
        "path = []\n",
        "labels = []\n",
        "numberList = ['1','2','3','4','5','6','7','8','9','10']\n",
        "string = '/content/'\n",
        "png = '.png'\n",
        "for s in gestures:\n",
        "  for i in range(10):\n",
        "    string = string + s + numberList[i] +png\n",
        "    path.append(string)\n",
        "    labels.append(s)\n",
        "    string = '/content/'\n",
        "\n",
        "print(labels, end = \"\\n\")\n",
        "print(path)"
      ],
      "execution_count": null,
      "outputs": [
        {
          "output_type": "stream",
          "text": [
            "['fist', 'fist', 'fist', 'fist', 'fist', 'fist', 'fist', 'fist', 'fist', 'fist', 'index', 'index', 'index', 'index', 'index', 'index', 'index', 'index', 'index', 'index', 'ok', 'ok', 'ok', 'ok', 'ok', 'ok', 'ok', 'ok', 'ok', 'ok', 'palm', 'palm', 'palm', 'palm', 'palm', 'palm', 'palm', 'palm', 'palm', 'palm', 'thumb', 'thumb', 'thumb', 'thumb', 'thumb', 'thumb', 'thumb', 'thumb', 'thumb', 'thumb']\n",
            "['/content/fist1.png', '/content/fist2.png', '/content/fist3.png', '/content/fist4.png', '/content/fist5.png', '/content/fist6.png', '/content/fist7.png', '/content/fist8.png', '/content/fist9.png', '/content/fist10.png', '/content/index1.png', '/content/index2.png', '/content/index3.png', '/content/index4.png', '/content/index5.png', '/content/index6.png', '/content/index7.png', '/content/index8.png', '/content/index9.png', '/content/index10.png', '/content/ok1.png', '/content/ok2.png', '/content/ok3.png', '/content/ok4.png', '/content/ok5.png', '/content/ok6.png', '/content/ok7.png', '/content/ok8.png', '/content/ok9.png', '/content/ok10.png', '/content/palm1.png', '/content/palm2.png', '/content/palm3.png', '/content/palm4.png', '/content/palm5.png', '/content/palm6.png', '/content/palm7.png', '/content/palm8.png', '/content/palm9.png', '/content/palm10.png', '/content/thumb1.png', '/content/thumb2.png', '/content/thumb3.png', '/content/thumb4.png', '/content/thumb5.png', '/content/thumb6.png', '/content/thumb7.png', '/content/thumb8.png', '/content/thumb9.png', '/content/thumb10.png']\n"
          ],
          "name": "stdout"
        }
      ]
    },
    {
      "cell_type": "code",
      "metadata": {
        "id": "3lRYAf9QdBpi"
      },
      "source": [
        "#Samiksha\n",
        "edge = []\n",
        "\n",
        "for i in range(len(path)):\n",
        "  img0 = cv2.imread(path[i])\n",
        "  gray = cv2.cvtColor(img0, cv2.COLOR_BGR2GRAY)\n",
        "  sobelx = cv2.Sobel(gray,cv2.CV_64F,1,0,ksize=5)  # x\n",
        "  sobely = cv2.Sobel(gray,cv2.CV_64F,0,1,ksize=5)  # y\n",
        "  sob = sobelx + sobely\n",
        "  edge.append(sob)\n"
      ],
      "execution_count": null,
      "outputs": []
    },
    {
      "cell_type": "code",
      "metadata": {
        "id": "nXm-asyyd46F"
      },
      "source": [
        "#Trisha\n",
        "def image_to_feature_vector(image, size=(32, 32)):\n",
        "\t# resize the image to a fixed size, then flatten the image into\n",
        "\t# a list of raw pixel intensities\n",
        "\treturn cv2.resize(image, size).flatten()"
      ],
      "execution_count": null,
      "outputs": []
    },
    {
      "cell_type": "code",
      "metadata": {
        "id": "AB_iJh0iriQt",
        "colab": {
          "base_uri": "https://localhost:8080/",
          "height": 69
        },
        "outputId": "fb8bcda9-899d-4179-aa23-551dd2e4ff4e"
      },
      "source": [
        "#Trisha\n",
        "# initialize the raw pixel intensities matrix\n",
        "# and labels list\n",
        "rawImages = []\n",
        "\n",
        "# loop over the input images\n",
        "\n",
        "for i in path:\n",
        "\n",
        "\t# reading the images\n",
        "\timage = cv2.imread(i)\n",
        " \n",
        "\t# extract raw pixel intensities\n",
        "\tpixels = image_to_feature_vector(image)\n",
        " \n",
        "\t# update the raw images matrices\n",
        "\trawImages.append(pixels)\n",
        "\n",
        "pixels_edge =[] \n",
        "for a in edge:\n",
        " temp = image_to_feature_vector(a)\n",
        " pixels_edge.append(temp)\n",
        "\n",
        "#converting lists to np arrays\n",
        "rawImages = np.array(rawImages)\n",
        "labels = np.array(labels)\n",
        "pixels_edge = np.array(pixels_edge)\n",
        "\n",
        "#splitting the edge and without edge detected dataset into training and testing data\n",
        "\n",
        "#Mohit and Trisha\n",
        "X_train,X_test,y_train,y_test = train_test_split(rawImages,labels,test_size=0.2,random_state=4)\n",
        "X1_train,X1_test,y1_train,y1_test = train_test_split(pixels_edge,labels,test_size=0.2,random_state=4)\n",
        "\n",
        "#without edge detection\n",
        "model = KNeighborsClassifier(n_neighbors=3)\n",
        "model.fit(X_train, y_train)\n",
        "\n",
        "\n",
        "#with edge detection\n",
        "mod = KNeighborsClassifier(n_neighbors=3)\n",
        "mod.fit(X1_train,y1_train)"
      ],
      "execution_count": null,
      "outputs": [
        {
          "output_type": "execute_result",
          "data": {
            "text/plain": [
              "KNeighborsClassifier(algorithm='auto', leaf_size=30, metric='minkowski',\n",
              "                     metric_params=None, n_jobs=None, n_neighbors=3, p=2,\n",
              "                     weights='uniform')"
            ]
          },
          "metadata": {
            "tags": []
          },
          "execution_count": 37
        }
      ]
    },
    {
      "cell_type": "code",
      "metadata": {
        "id": "GiODGUVb8Zh5",
        "colab": {
          "base_uri": "https://localhost:8080/",
          "height": 301
        },
        "outputId": "0f001e2f-cf33-4dc0-ae48-3660ae7b9f6b"
      },
      "source": [
        "#Samiksha\n",
        "#without edge detection\n",
        "\n",
        "y = model.predict(X_test)\n",
        "confusion_matrix = pd.crosstab(y_test,y,rownames=['Actual'],colnames=['Predicted'])\n",
        "sn.heatmap(confusion_matrix, annot=True)\n",
        "print(\"The accuracy for images without edge detection is:\",accuracy_score(y_test,y))\n"
      ],
      "execution_count": null,
      "outputs": [
        {
          "output_type": "stream",
          "text": [
            "The accuracy for images without edge detection is: 0.8\n"
          ],
          "name": "stdout"
        },
        {
          "output_type": "display_data",
          "data": {
            "image/png": "[encoded data removed]",
            "text/plain": [
              "<Figure size 432x288 with 2 Axes>"
            ]
          },
          "metadata": {
            "tags": [],
            "needs_background": "light"
          }
        }
      ]
    },
    {
      "cell_type": "code",
      "metadata": {
        "id": "j-bcbnOumMI8",
        "colab": {
          "base_uri": "https://localhost:8080/",
          "height": 301
        },
        "outputId": "a7648754-72f3-48de-dacf-9e73f650893f"
      },
      "source": [
        "#Samiksha\n",
        "#with edge detection\n",
        "y1 = mod.predict(X1_test)\n",
        "confusion_matrix1 = pd.crosstab(y1_test,y1,rownames=['Actual'],colnames=['Predicted'])\n",
        "sn.heatmap(confusion_matrix1, annot=True)\n",
        "print(\"The accuracy for images with edge detection is:\",accuracy_score(y1_test,y1))"
      ],
      "execution_count": null,
      "outputs": [
        {
          "output_type": "stream",
          "text": [
            "The accuracy for images with edge detection is: 0.6\n"
          ],
          "name": "stdout"
        },
        {
          "output_type": "display_data",
          "data": {
            "image/png": "[encoded data removed]",
            "text/plain": [
              "<Figure size 432x288 with 2 Axes>"
            ]
          },
          "metadata": {
            "tags": [],
            "needs_background": "light"
          }
        }
      ]
    }
  ]
}